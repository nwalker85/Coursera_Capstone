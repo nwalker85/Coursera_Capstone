{
 "metadata": {
  "language_info": {
   "codemirror_mode": {
    "name": "ipython",
    "version": 3
   },
   "file_extension": ".py",
   "mimetype": "text/x-python",
   "name": "python",
   "nbconvert_exporter": "python",
   "pygments_lexer": "ipython3",
   "version": "3.8.0-final"
  },
  "orig_nbformat": 2,
  "kernelspec": {
   "name": "python_defaultSpec_1599513298010",
   "display_name": "Python 3.8.0 64-bit"
  }
 },
 "nbformat": 4,
 "nbformat_minor": 2,
 "cells": [
  {
   "cell_type": "code",
   "execution_count": 24,
   "metadata": {},
   "outputs": [],
   "source": [
    "# Import all required libraries\n",
    "\n",
    "import pandas as pd \n",
    "from glob import glob\n",
    "import pylab as pl\n",
    "import numpy as np\n",
    "import matplotlib.pyplot as plt\n",
    "%matplotlib inline\n",
    "import seaborn as sns\n",
    "from sklearn.preprocessing import MinMaxScaler\n",
    "from sklearn import metrics\n",
    "from sklearn.model_selection import train_test_split\n",
    "from sklearn.model_selection import cross_val_score\n",
    "from sklearn.tree import DecisionTreeClassifier\n",
    "from sklearn import svm\n",
    "from sklearn.ensemble import RandomForestClassifier\n",
    "from sklearn.ensemble import RandomForestRegressor\n",
    "\n",
    "from sklearn import datasets\n",
    "import xgboost as xgb\n",
    "from scipy.stats import chi2_contingency\n",
    "from sklearn.model_selection import GridSearchCV\n",
    "from sklearn.decomposition import PCA\n",
    "from sklearn.metrics import confusion_matrix \n",
    "from sklearn.metrics import accuracy_score\n",
    "from sklearn.metrics import recall_score\n",
    "from sklearn.metrics import precision_score\n",
    "from sklearn.metrics import f1_score"
   ]
  },
  {
   "cell_type": "code",
   "execution_count": 25,
   "metadata": {},
   "outputs": [
    {
     "output_type": "execute_result",
     "data": {
      "text/plain": "                                                  level_0  level_1  Crash_ID  \\\n0       extract_public_2018_20200825003448226_69851_20...        0  15657177   \n1       extract_public_2018_20200825003448226_69851_20...        1  16406486   \n2       extract_public_2018_20200825003448226_69851_20...        2  16473665   \n3       extract_public_2018_20200825003448226_69851_20...        3  16871051   \n4       extract_public_2018_20200825003448226_69851_20...        4  16995273   \n...                                                   ...      ...       ...   \n648332  extract_public_2018_20200825003448226_69851_20...    54572  17777131   \n648333  extract_public_2018_20200825003448226_69851_20...    54573  17779640   \n648334  extract_public_2018_20200825003448226_69851_20...    54574  17783015   \n648335  extract_public_2018_20200825003448226_69851_20...    54575  17801355   \n648336  extract_public_2018_20200825003448226_69851_20...    54576  17813604   \n\n       Crash_Fatal_Fl Cmv_Involv_Fl Schl_Bus_Fl Rr_Relat_Fl  \\\n0                   N             N           N           N   \n1                   N             N           N           N   \n2                   N             N           N           N   \n3                   N             Y           N           N   \n4                   N             N           N           N   \n...               ...           ...         ...         ...   \n648332              N             N           N           N   \n648333              N             N           N           N   \n648334              N             N           N           N   \n648335              N             N           N           N   \n648336              N             N           N           N   \n\n       Medical_Advisory_Fl Amend_Supp_Fl Active_School_Zone_Fl  ...  \\\n0                        N             Y                     N  ...   \n1                        N             Y                     N  ...   \n2                        N             Y                     N  ...   \n3                        N             Y                     N  ...   \n4                        N             Y                     N  ...   \n...                    ...           ...                   ...  ...   \n648332                   N             N                     N  ...   \n648333                   N             N                     N  ...   \n648334                   N             N                     N  ...   \n648335                   N             N                     N  ...   \n648336                   N             N                     N  ...   \n\n       Nonincap_Injry_Cnt Poss_Injry_Cnt Non_Injry_Cnt Unkn_Injry_Cnt  \\\n0                       0              0             0              1   \n1                       0              0             1              1   \n2                       1              0             1              0   \n3                       0              0             2              0   \n4                       0              1             6              0   \n...                   ...            ...           ...            ...   \n648332                  0              0             0              2   \n648333                  0              0             2              0   \n648334                  0              0             0              1   \n648335                  0              0             1              0   \n648336                  0              0             2              0   \n\n        Tot_Injry_Cnt  Death_Cnt MPO_ID Investigat_Service_ID  \\\n0                   0          0    NaN                  35.0   \n1                   0          0    NaN                  23.0   \n2                   1          0    NaN                  35.0   \n3                   0          0  282.0                   NaN   \n4                   1          0   15.0                  53.0   \n...               ...        ...    ...                   ...   \n648332              0          0    NaN                  29.0   \n648333              0          0   15.0                   NaN   \n648334              0          0    NaN                 411.0   \n648335              0          0   15.0                   NaN   \n648336              0          0   96.0                   NaN   \n\n        Investigat_DA_ID  Investigator_Narrative  \n0                    NaN                     NaN  \n1                    NaN                     NaN  \n2                    NaN                     NaN  \n3                    NaN                     NaN  \n4                   61.0                     NaN  \n...                  ...                     ...  \n648332              14.0                     NaN  \n648333               NaN                     NaN  \n648334               NaN                     NaN  \n648335               NaN                     NaN  \n648336               NaN                     NaN  \n\n[648337 rows x 173 columns]",
      "text/html": "<div>\n<style scoped>\n    .dataframe tbody tr th:only-of-type {\n        vertical-align: middle;\n    }\n\n    .dataframe tbody tr th {\n        vertical-align: top;\n    }\n\n    .dataframe thead th {\n        text-align: right;\n    }\n</style>\n<table border=\"1\" class=\"dataframe\">\n  <thead>\n    <tr style=\"text-align: right;\">\n      <th></th>\n      <th>level_0</th>\n      <th>level_1</th>\n      <th>Crash_ID</th>\n      <th>Crash_Fatal_Fl</th>\n      <th>Cmv_Involv_Fl</th>\n      <th>Schl_Bus_Fl</th>\n      <th>Rr_Relat_Fl</th>\n      <th>Medical_Advisory_Fl</th>\n      <th>Amend_Supp_Fl</th>\n      <th>Active_School_Zone_Fl</th>\n      <th>...</th>\n      <th>Nonincap_Injry_Cnt</th>\n      <th>Poss_Injry_Cnt</th>\n      <th>Non_Injry_Cnt</th>\n      <th>Unkn_Injry_Cnt</th>\n      <th>Tot_Injry_Cnt</th>\n      <th>Death_Cnt</th>\n      <th>MPO_ID</th>\n      <th>Investigat_Service_ID</th>\n      <th>Investigat_DA_ID</th>\n      <th>Investigator_Narrative</th>\n    </tr>\n  </thead>\n  <tbody>\n    <tr>\n      <th>0</th>\n      <td>extract_public_2018_20200825003448226_69851_20...</td>\n      <td>0</td>\n      <td>15657177</td>\n      <td>N</td>\n      <td>N</td>\n      <td>N</td>\n      <td>N</td>\n      <td>N</td>\n      <td>Y</td>\n      <td>N</td>\n      <td>...</td>\n      <td>0</td>\n      <td>0</td>\n      <td>0</td>\n      <td>1</td>\n      <td>0</td>\n      <td>0</td>\n      <td>NaN</td>\n      <td>35.0</td>\n      <td>NaN</td>\n      <td>NaN</td>\n    </tr>\n    <tr>\n      <th>1</th>\n      <td>extract_public_2018_20200825003448226_69851_20...</td>\n      <td>1</td>\n      <td>16406486</td>\n      <td>N</td>\n      <td>N</td>\n      <td>N</td>\n      <td>N</td>\n      <td>N</td>\n      <td>Y</td>\n      <td>N</td>\n      <td>...</td>\n      <td>0</td>\n      <td>0</td>\n      <td>1</td>\n      <td>1</td>\n      <td>0</td>\n      <td>0</td>\n      <td>NaN</td>\n      <td>23.0</td>\n      <td>NaN</td>\n      <td>NaN</td>\n    </tr>\n    <tr>\n      <th>2</th>\n      <td>extract_public_2018_20200825003448226_69851_20...</td>\n      <td>2</td>\n      <td>16473665</td>\n      <td>N</td>\n      <td>N</td>\n      <td>N</td>\n      <td>N</td>\n      <td>N</td>\n      <td>Y</td>\n      <td>N</td>\n      <td>...</td>\n      <td>1</td>\n      <td>0</td>\n      <td>1</td>\n      <td>0</td>\n      <td>1</td>\n      <td>0</td>\n      <td>NaN</td>\n      <td>35.0</td>\n      <td>NaN</td>\n      <td>NaN</td>\n    </tr>\n    <tr>\n      <th>3</th>\n      <td>extract_public_2018_20200825003448226_69851_20...</td>\n      <td>3</td>\n      <td>16871051</td>\n      <td>N</td>\n      <td>Y</td>\n      <td>N</td>\n      <td>N</td>\n      <td>N</td>\n      <td>Y</td>\n      <td>N</td>\n      <td>...</td>\n      <td>0</td>\n      <td>0</td>\n      <td>2</td>\n      <td>0</td>\n      <td>0</td>\n      <td>0</td>\n      <td>282.0</td>\n      <td>NaN</td>\n      <td>NaN</td>\n      <td>NaN</td>\n    </tr>\n    <tr>\n      <th>4</th>\n      <td>extract_public_2018_20200825003448226_69851_20...</td>\n      <td>4</td>\n      <td>16995273</td>\n      <td>N</td>\n      <td>N</td>\n      <td>N</td>\n      <td>N</td>\n      <td>N</td>\n      <td>Y</td>\n      <td>N</td>\n      <td>...</td>\n      <td>0</td>\n      <td>1</td>\n      <td>6</td>\n      <td>0</td>\n      <td>1</td>\n      <td>0</td>\n      <td>15.0</td>\n      <td>53.0</td>\n      <td>61.0</td>\n      <td>NaN</td>\n    </tr>\n    <tr>\n      <th>...</th>\n      <td>...</td>\n      <td>...</td>\n      <td>...</td>\n      <td>...</td>\n      <td>...</td>\n      <td>...</td>\n      <td>...</td>\n      <td>...</td>\n      <td>...</td>\n      <td>...</td>\n      <td>...</td>\n      <td>...</td>\n      <td>...</td>\n      <td>...</td>\n      <td>...</td>\n      <td>...</td>\n      <td>...</td>\n      <td>...</td>\n      <td>...</td>\n      <td>...</td>\n      <td>...</td>\n    </tr>\n    <tr>\n      <th>648332</th>\n      <td>extract_public_2018_20200825003448226_69851_20...</td>\n      <td>54572</td>\n      <td>17777131</td>\n      <td>N</td>\n      <td>N</td>\n      <td>N</td>\n      <td>N</td>\n      <td>N</td>\n      <td>N</td>\n      <td>N</td>\n      <td>...</td>\n      <td>0</td>\n      <td>0</td>\n      <td>0</td>\n      <td>2</td>\n      <td>0</td>\n      <td>0</td>\n      <td>NaN</td>\n      <td>29.0</td>\n      <td>14.0</td>\n      <td>NaN</td>\n    </tr>\n    <tr>\n      <th>648333</th>\n      <td>extract_public_2018_20200825003448226_69851_20...</td>\n      <td>54573</td>\n      <td>17779640</td>\n      <td>N</td>\n      <td>N</td>\n      <td>N</td>\n      <td>N</td>\n      <td>N</td>\n      <td>N</td>\n      <td>N</td>\n      <td>...</td>\n      <td>0</td>\n      <td>0</td>\n      <td>2</td>\n      <td>0</td>\n      <td>0</td>\n      <td>0</td>\n      <td>15.0</td>\n      <td>NaN</td>\n      <td>NaN</td>\n      <td>NaN</td>\n    </tr>\n    <tr>\n      <th>648334</th>\n      <td>extract_public_2018_20200825003448226_69851_20...</td>\n      <td>54574</td>\n      <td>17783015</td>\n      <td>N</td>\n      <td>N</td>\n      <td>N</td>\n      <td>N</td>\n      <td>N</td>\n      <td>N</td>\n      <td>N</td>\n      <td>...</td>\n      <td>0</td>\n      <td>0</td>\n      <td>0</td>\n      <td>1</td>\n      <td>0</td>\n      <td>0</td>\n      <td>NaN</td>\n      <td>411.0</td>\n      <td>NaN</td>\n      <td>NaN</td>\n    </tr>\n    <tr>\n      <th>648335</th>\n      <td>extract_public_2018_20200825003448226_69851_20...</td>\n      <td>54575</td>\n      <td>17801355</td>\n      <td>N</td>\n      <td>N</td>\n      <td>N</td>\n      <td>N</td>\n      <td>N</td>\n      <td>N</td>\n      <td>N</td>\n      <td>...</td>\n      <td>0</td>\n      <td>0</td>\n      <td>1</td>\n      <td>0</td>\n      <td>0</td>\n      <td>0</td>\n      <td>15.0</td>\n      <td>NaN</td>\n      <td>NaN</td>\n      <td>NaN</td>\n    </tr>\n    <tr>\n      <th>648336</th>\n      <td>extract_public_2018_20200825003448226_69851_20...</td>\n      <td>54576</td>\n      <td>17813604</td>\n      <td>N</td>\n      <td>N</td>\n      <td>N</td>\n      <td>N</td>\n      <td>N</td>\n      <td>N</td>\n      <td>N</td>\n      <td>...</td>\n      <td>0</td>\n      <td>0</td>\n      <td>2</td>\n      <td>0</td>\n      <td>0</td>\n      <td>0</td>\n      <td>96.0</td>\n      <td>NaN</td>\n      <td>NaN</td>\n      <td>NaN</td>\n    </tr>\n  </tbody>\n</table>\n<p>648337 rows × 173 columns</p>\n</div>"
     },
     "metadata": {},
     "execution_count": 25
    }
   ],
   "source": [
    "# Import the data to a pandas data frame\n",
    "\n",
    "root = \"extract_public_2018_20200825003448226_69851_20190101-20191231Texas/\"\n",
    "files = glob(root + '*/*_crash_*.csv')\n",
    "get_df = lambda f: pd.read_csv(f)\n",
    "dfdict = {f: pd.read_csv(f) for f in files}\n",
    "df = pd.concat(dfdict)\n",
    "df.reset_index()"
   ]
  },
  {
   "cell_type": "code",
   "execution_count": 146,
   "metadata": {},
   "outputs": [],
   "source": [
    "# FINAL column list\n",
    "\n",
    "filter_list =[ \n",
    " 'Rpt_CRIS_Cnty_ID',\n",
    " 'Rpt_Rdwy_Sys_ID',\n",
    " 'Rpt_Road_Part_ID',\n",
    " 'Rpt_Sec_Rdwy_Sys_ID',\n",
    " 'Rpt_Sec_Road_Part_ID',\n",
    " 'Wthr_Cond_ID',\n",
    " 'Light_Cond_ID',\n",
    " 'Entr_Road_ID',\n",
    " 'Road_Type_ID',\n",
    " 'Road_Algn_ID',\n",
    " 'Surf_Cond_ID',\n",
    " 'Bridge_Detail_ID',\n",
    " 'Harm_Evnt_ID',\n",
    " 'Intrsct_Relat_ID',\n",
    " 'FHE_Collsn_ID',\n",
    " 'Obj_Struck_ID',\n",
    " 'Othr_Factr_ID',\n",
    " 'Road_Part_Adj_ID',\n",
    " 'Road_Cls_ID',\n",
    " 'Road_Relat_ID',\n",
    " 'Phys_Featr_1_ID',\n",
    " 'Phys_Featr_2_ID',\n",
    " 'Crash_Sev_ID',\n",
    " 'Pop_Group_ID',\n",
    " 'Base_Type_ID',\n",
    " 'Surf_Type_ID',\n",
    " 'Curve_Type_ID',\n",
    " 'Delta_Left_Right_ID',\n",
    " 'Crash_Time',\n",
    " 'Day_of_Week'\n",
    " ]"
   ]
  },
  {
   "cell_type": "code",
   "execution_count": 147,
   "metadata": {},
   "outputs": [],
   "source": [
    "# Same as above, without our target variable \"Crash_Sev_ID\"\n",
    "\n",
    "\n",
    "predictor_list = [ \n",
    " 'Rpt_CRIS_Cnty_ID',\n",
    " 'Rpt_Rdwy_Sys_ID',\n",
    " 'Rpt_Road_Part_ID',\n",
    " 'Rpt_Sec_Rdwy_Sys_ID',\n",
    " 'Rpt_Sec_Road_Part_ID',\n",
    " 'Wthr_Cond_ID',\n",
    " 'Light_Cond_ID',\n",
    " 'Entr_Road_ID',\n",
    " 'Road_Type_ID',\n",
    " 'Road_Algn_ID',\n",
    " 'Surf_Cond_ID',\n",
    " 'Bridge_Detail_ID',\n",
    " 'Harm_Evnt_ID',\n",
    " 'Intrsct_Relat_ID',\n",
    " 'FHE_Collsn_ID',\n",
    " 'Obj_Struck_ID',\n",
    " 'Othr_Factr_ID',\n",
    " 'Road_Part_Adj_ID',\n",
    " 'Road_Cls_ID',\n",
    " 'Road_Relat_ID',\n",
    " 'Phys_Featr_1_ID',\n",
    " 'Phys_Featr_2_ID',\n",
    " 'Pop_Group_ID',\n",
    " 'Base_Type_ID',\n",
    " 'Surf_Type_ID',\n",
    " 'Curve_Type_ID',\n",
    " 'Delta_Left_Right_ID',\n",
    " 'Crash_Time',\n",
    " 'Day_of_Week'\n",
    " ]"
   ]
  },
  {
   "cell_type": "code",
   "execution_count": 182,
   "metadata": {},
   "outputs": [],
   "source": [
    "# Create a new dataframe using only the filtered columns.\n",
    "\n",
    "df_filtered = df[filter_list]"
   ]
  },
  {
   "cell_type": "code",
   "execution_count": 154,
   "metadata": {},
   "outputs": [],
   "source": [
    "# Remove all rows where Crash_Sev_ID is 0 = no data.\n",
    "\n",
    "\n",
    "df_filtered = df_filtered[df_filtered.Crash_Sev_ID != 0]"
   ]
  },
  {
   "cell_type": "code",
   "execution_count": 155,
   "metadata": {},
   "outputs": [],
   "source": [
    "# Depending on the type of row, either fill with 0 or drop the row entirely.\n",
    "\n",
    "df_filtered['Rpt_Sec_Rdwy_Sys_ID'].fillna(0, inplace=True)\n",
    "df_filtered['Rpt_Sec_Road_Part_ID'].fillna(0, inplace=True)\n",
    "df_filtered['Base_Type_ID'].fillna(0, inplace=True)\n",
    "df_filtered['Curve_Type_ID'].fillna(0, inplace=True)\n",
    "df_filtered['Delta_Left_Right_ID'].fillna(0, inplace=True)\n",
    "\n",
    "df_filtered.dropna(subset=['Surf_Type_ID'], inplace=True)"
   ]
  },
  {
   "cell_type": "code",
   "execution_count": 156,
   "metadata": {},
   "outputs": [],
   "source": [
    "# Using a binning technique on the Crash_Time value, looking specifically for the hour only.\n",
    "\n",
    "df_filtered['Crash_Time'] = pd.to_datetime(df_filtered['Crash_Time'])\n",
    "df_filtered['Crash_Time'] = df_filtered['Crash_Time'].dt.strftime('%H')\n"
   ]
  },
  {
   "cell_type": "code",
   "execution_count": 157,
   "metadata": {},
   "outputs": [],
   "source": [
    "# Replace the string values of each day of the week with a numeric value\n",
    "\n",
    "df_filtered.loc[(df_filtered.Day_of_Week == 'MON'),'Day_of_Week']=0\n",
    "df_filtered.loc[(df_filtered.Day_of_Week == 'TUE'),'Day_of_Week']=1\n",
    "df_filtered.loc[(df_filtered.Day_of_Week == 'WED'),'Day_of_Week']=2\n",
    "df_filtered.loc[(df_filtered.Day_of_Week == 'THU'),'Day_of_Week']=3\n",
    "df_filtered.loc[(df_filtered.Day_of_Week == 'FRI'),'Day_of_Week']=4\n",
    "df_filtered.loc[(df_filtered.Day_of_Week == 'SAT'),'Day_of_Week']=5\n",
    "df_filtered.loc[(df_filtered.Day_of_Week == 'SUN'),'Day_of_Week']=6"
   ]
  },
  {
   "cell_type": "code",
   "execution_count": 158,
   "metadata": {},
   "outputs": [],
   "source": [
    "# Replace string values of Y/N to a binary 1/0. \n",
    "\n",
    "df_filtered.replace(to_replace=r'^N$', value=0, regex=True, inplace=True)\n",
    "df_filtered.replace(to_replace=r'^Y$', value=1, regex=True, inplace=True)"
   ]
  },
  {
   "cell_type": "code",
   "execution_count": 159,
   "metadata": {},
   "outputs": [],
   "source": [
    "# One hot encoding on all of the columns. This will create many dimension, but this has proven to be the most accurate data format. This needs a lot of work still, as the column names are inconsistent (some are float values, some are int, so columns are showing up as things like 'column_name_2.0 and column_name_4 intermittently).\n",
    "\n",
    "df_filtered = pd.get_dummies(df_filtered, columns=predictor_list)"
   ]
  },
  {
   "cell_type": "code",
   "execution_count": 160,
   "metadata": {},
   "outputs": [],
   "source": [
    "# Due to how XGBoost works, shift the scale of the target variable from 1-5 to 0-4.\n",
    "\n",
    "df_filtered['Crash_Sev_ID'].replace({1:0, 2:1, 3:2, 4:3, 5:4}, inplace = True)"
   ]
  },
  {
   "cell_type": "code",
   "execution_count": 84,
   "metadata": {},
   "outputs": [],
   "source": [
    "# It is important to create a test/train set BEFORE any balanacing.\n",
    "\n",
    "train, test = train_test_split(df_filtered, test_size=0.2, random_state=42, shuffle=True)"
   ]
  },
  {
   "cell_type": "code",
   "execution_count": 86,
   "metadata": {},
   "outputs": [],
   "source": [
    "# Balance the data using resampling. I have included both over and undersample examples, though the undersampled data did not perform near as well.\n",
    "\n",
    "count_class_1, count_class_2, count_class_3, count_class_4, count_class_5 = train.Crash_Sev_ID.value_counts()\n",
    "df_class_1 = train[train['Crash_Sev_ID'] == 0]\n",
    "df_class_2 = train[train['Crash_Sev_ID'] == 1]\n",
    "df_class_3 = train[train['Crash_Sev_ID'] == 2]\n",
    "df_class_4 = train[train['Crash_Sev_ID'] == 3]\n",
    "df_class_5 = train[train['Crash_Sev_ID'] == 4]\n",
    "\n",
    "df_class_5_under = df_class_5.sample(count_class_5)\n",
    "df_class_3_under = df_class_3.sample(count_class_5)\n",
    "df_class_2_under = df_class_2.sample(count_class_5)\n",
    "df_class_1_under = df_class_1.sample(count_class_5)\n",
    "\n",
    "df_test_under = pd.concat([df_class_5_under, df_class_3_under, df_class_2_under, df_class_1_under, df_class_4], axis=0)\n",
    "\n",
    "df_class_5_over = df_class_5.sample(count_class_1, replace=True)\n",
    "df_class_4_over = df_class_4.sample(count_class_1, replace=True)\n",
    "df_class_3_over = df_class_3.sample(count_class_1, replace=True)\n",
    "df_class_2_over = df_class_2.sample(count_class_1, replace=True)\n",
    "df_class_1_over = df_class_1.sample(count_class_1, replace=True)\n",
    "\n",
    "df_test_over = pd.concat([df_class_4_over, df_class_3_over, df_class_2_over, df_class_1_over, df_class_5], axis=0)"
   ]
  },
  {
   "cell_type": "code",
   "execution_count": 96,
   "metadata": {},
   "outputs": [],
   "source": [
    "# Create a train set with the balanced data, and a test set with the original data. \n",
    "\n",
    "X_train, y_train = df_test_over.loc[:, df_test_over.columns != 'Crash_Sev_ID'], df_test_over['Crash_Sev_ID']\n",
    "X_test, y_test = df_filtered.loc[:, df_filtered.columns != 'Crash_Sev_ID'], df_filtered['Crash_Sev_ID']"
   ]
  },
  {
   "cell_type": "code",
   "execution_count": 99,
   "metadata": {},
   "outputs": [],
   "source": [
    "# Dmatrix file type required for the XGBoost modeling. \n",
    "\n",
    "D_train = xgb.DMatrix(X_train, label=y_train)\n",
    "D_test = xgb.DMatrix(X_test, label=y_test)"
   ]
  },
  {
   "cell_type": "code",
   "execution_count": 109,
   "metadata": {},
   "outputs": [],
   "source": [
    "#Spent a LOT of time here setting the parameters of the model. Tuning this model could be a project all to itself. Since this is a multiclass classification problem, we use the 'softprob' model.\n",
    "\n",
    "param = {\n",
    "    'eta': 0.3, \n",
    "    'max_depth': 28,  \n",
    "    'objective': 'multi:softprob',\n",
    "    'num_class': 5\n",
    "    } \n",
    "\n",
    "steps = 20  "
   ]
  },
  {
   "cell_type": "code",
   "execution_count": 110,
   "metadata": {
    "tags": []
   },
   "outputs": [],
   "source": [
    "# Train the model (go get some coffee)\n",
    "\n",
    "model = xgb.train(param, D_train, steps)"
   ]
  },
  {
   "cell_type": "code",
   "execution_count": 111,
   "metadata": {
    "tags": []
   },
   "outputs": [
    {
     "output_type": "stream",
     "name": "stdout",
     "text": "Precision = 0.673716326013903\nRecall = 0.8081057107558098\nAccuracy = 0.8167134043746495\nF1 Score = [0.67304643 0.6891927  0.71832048 0.68508099 0.87734261]\n"
    }
   ],
   "source": [
    "# Evaluate the model. This model performed poorly, with a very low f1 score for the most important target variable, the 4th target 'Fatal'.\n",
    "\n",
    "preds = model.predict(D_test)\n",
    "best_preds = np.asarray([np.argmax(line) for line in preds])\n",
    "\n",
    "print(\"Precision = {}\".format(precision_score(y_test, best_preds, average='macro')))\n",
    "print(\"Recall = {}\".format(recall_score(y_test, best_preds, average='macro')))\n",
    "print(\"Accuracy = {}\".format(accuracy_score(y_test, best_preds)))\n",
    "print(\"F1 Score = {}\".format(f1_score(y_test, best_preds, average=None)))"
   ]
  },
  {
   "cell_type": "code",
   "execution_count": 112,
   "metadata": {},
   "outputs": [],
   "source": [
    "# Brute force attempt at tuning the model resulted in this. \n",
    "param2 = {\n",
    "    'eta': 0.3, \n",
    "    'max_depth': 40,  \n",
    "    'objective': 'multi:softprob',\n",
    "    'num_class': 5\n",
    "    } \n",
    "\n",
    "steps2 = 30 "
   ]
  },
  {
   "cell_type": "code",
   "execution_count": 113,
   "metadata": {},
   "outputs": [],
   "source": [
    "# Train the model (go get lunch)\n",
    "\n",
    "model2 = xgb.train(param2, D_train, steps2)"
   ]
  },
  {
   "cell_type": "code",
   "execution_count": 183,
   "metadata": {
    "tags": []
   },
   "outputs": [
    {
     "output_type": "stream",
     "name": "stdout",
     "text": "Precision = 0.8686592573764884\nRecall = 0.8476801175541061\nAccuracy = 0.9098990465507572\nF1 Score = [0.82939812 0.83182063 0.83644236 0.84808511 0.94351241]\n"
    }
   ],
   "source": [
    "# Evaluate the model\n",
    "\n",
    "preds2 = model2.predict(D_test)\n",
    "best_preds2 = np.asarray([np.argmax(line) for line in preds2])\n",
    "\n",
    "print(\"Precision = {}\".format(precision_score(y_test, best_preds2, average='macro')))\n",
    "print(\"Recall = {}\".format(recall_score(y_test, best_preds2, average='macro')))\n",
    "print(\"Accuracy = {}\".format(accuracy_score(y_test, best_preds2)))\n",
    "print(\"F1 Score = {}\".format(f1_score(y_test, best_preds2, average=None)))"
   ]
  },
  {
   "cell_type": "code",
   "execution_count": null,
   "metadata": {},
   "outputs": [],
   "source": [
    "# This model is a significant improvement, and we're closing in on a model I am happy with."
   ]
  },
  {
   "cell_type": "code",
   "execution_count": 171,
   "metadata": {
    "tags": []
   },
   "outputs": [
    {
     "output_type": "stream",
     "name": "stdout",
     "text": "1.0\n2.0\n3.0\n4.0\n5.0\n6.0\n7.0\n8.0\n9.0\n10.0\n11.0\n12.0\n13.0\n14.0\n15.0\n16.0\n17.0\n18.0\n19.0\n20.0\n21.0\n22.0\n23.0\n24.0\n25.0\n26.0\n27.0\n28.0\n29.0\n30.0\n31.0\n32.0\n33.0\n34.0\n35.0\n36.0\n37.0\n38.0\n39.0\n40.0\n41.0\n42.0\n43.0\n44.0\n45.0\n46.0\n47.0\n48.0\n49.0\n50.0\n51.0\n52.0\n53.0\n54.0\n55.0\n56.0\n57.0\n58.0\n59.0\n60.0\n"
    },
    {
     "output_type": "display_data",
     "data": {
      "text/plain": "<Figure size 432x288 with 1 Axes>",
      "image/svg+xml": "<?xml version=\"1.0\" encoding=\"utf-8\" standalone=\"no\"?>\n<!DOCTYPE svg PUBLIC \"-//W3C//DTD SVG 1.1//EN\"\n  \"http://www.w3.org/Graphics/SVG/1.1/DTD/svg11.dtd\">\n<!-- Created with matplotlib (https://matplotlib.org/) -->\n<svg height=\"248.518125pt\" version=\"1.1\" viewBox=\"0 0 372.103125 248.518125\" width=\"372.103125pt\" xmlns=\"http://www.w3.org/2000/svg\" xmlns:xlink=\"http://www.w3.org/1999/xlink\">\n <defs>\n  <style type=\"text/css\">\n*{stroke-linecap:butt;stroke-linejoin:round;}\n  </style>\n </defs>\n <g id=\"figure_1\">\n  <g id=\"patch_1\">\n   <path d=\"M 0 248.518125 \nL 372.103125 248.518125 \nL 372.103125 0 \nL 0 0 \nz\n\" style=\"fill:none;\"/>\n  </g>\n  <g id=\"axes_1\">\n   <g id=\"patch_2\">\n    <path d=\"M 30.103125 224.64 \nL 364.903125 224.64 \nL 364.903125 7.2 \nL 30.103125 7.2 \nz\n\" style=\"fill:#ffffff;\"/>\n   </g>\n   <g id=\"matplotlib.axis_1\">\n    <g id=\"xtick_1\">\n     <g id=\"line2d_1\">\n      <defs>\n       <path d=\"M 0 0 \nL 0 3.5 \n\" id=\"m247e816cd8\" style=\"stroke:#000000;stroke-width:0.8;\"/>\n      </defs>\n      <g>\n       <use style=\"stroke:#000000;stroke-width:0.8;\" x=\"40.162601\" xlink:href=\"#m247e816cd8\" y=\"224.64\"/>\n      </g>\n     </g>\n     <g id=\"text_1\">\n      <!-- 0 -->\n      <defs>\n       <path d=\"M 31.78125 66.40625 \nQ 24.171875 66.40625 20.328125 58.90625 \nQ 16.5 51.421875 16.5 36.375 \nQ 16.5 21.390625 20.328125 13.890625 \nQ 24.171875 6.390625 31.78125 6.390625 \nQ 39.453125 6.390625 43.28125 13.890625 \nQ 47.125 21.390625 47.125 36.375 \nQ 47.125 51.421875 43.28125 58.90625 \nQ 39.453125 66.40625 31.78125 66.40625 \nz\nM 31.78125 74.21875 \nQ 44.046875 74.21875 50.515625 64.515625 \nQ 56.984375 54.828125 56.984375 36.375 \nQ 56.984375 17.96875 50.515625 8.265625 \nQ 44.046875 -1.421875 31.78125 -1.421875 \nQ 19.53125 -1.421875 13.0625 8.265625 \nQ 6.59375 17.96875 6.59375 36.375 \nQ 6.59375 54.828125 13.0625 64.515625 \nQ 19.53125 74.21875 31.78125 74.21875 \nz\n\" id=\"DejaVuSans-48\"/>\n      </defs>\n      <g transform=\"translate(36.981351 239.238437)scale(0.1 -0.1)\">\n       <use xlink:href=\"#DejaVuSans-48\"/>\n      </g>\n     </g>\n    </g>\n    <g id=\"xtick_2\">\n     <g id=\"line2d_2\">\n      <g>\n       <use style=\"stroke:#000000;stroke-width:0.8;\" x=\"91.749658\" xlink:href=\"#m247e816cd8\" y=\"224.64\"/>\n      </g>\n     </g>\n     <g id=\"text_2\">\n      <!-- 10 -->\n      <defs>\n       <path d=\"M 12.40625 8.296875 \nL 28.515625 8.296875 \nL 28.515625 63.921875 \nL 10.984375 60.40625 \nL 10.984375 69.390625 \nL 28.421875 72.90625 \nL 38.28125 72.90625 \nL 38.28125 8.296875 \nL 54.390625 8.296875 \nL 54.390625 0 \nL 12.40625 0 \nz\n\" id=\"DejaVuSans-49\"/>\n      </defs>\n      <g transform=\"translate(85.387158 239.238437)scale(0.1 -0.1)\">\n       <use xlink:href=\"#DejaVuSans-49\"/>\n       <use x=\"63.623047\" xlink:href=\"#DejaVuSans-48\"/>\n      </g>\n     </g>\n    </g>\n    <g id=\"xtick_3\">\n     <g id=\"line2d_3\">\n      <g>\n       <use style=\"stroke:#000000;stroke-width:0.8;\" x=\"143.336715\" xlink:href=\"#m247e816cd8\" y=\"224.64\"/>\n      </g>\n     </g>\n     <g id=\"text_3\">\n      <!-- 20 -->\n      <defs>\n       <path d=\"M 19.1875 8.296875 \nL 53.609375 8.296875 \nL 53.609375 0 \nL 7.328125 0 \nL 7.328125 8.296875 \nQ 12.9375 14.109375 22.625 23.890625 \nQ 32.328125 33.6875 34.8125 36.53125 \nQ 39.546875 41.84375 41.421875 45.53125 \nQ 43.3125 49.21875 43.3125 52.78125 \nQ 43.3125 58.59375 39.234375 62.25 \nQ 35.15625 65.921875 28.609375 65.921875 \nQ 23.96875 65.921875 18.8125 64.3125 \nQ 13.671875 62.703125 7.8125 59.421875 \nL 7.8125 69.390625 \nQ 13.765625 71.78125 18.9375 73 \nQ 24.125 74.21875 28.421875 74.21875 \nQ 39.75 74.21875 46.484375 68.546875 \nQ 53.21875 62.890625 53.21875 53.421875 \nQ 53.21875 48.921875 51.53125 44.890625 \nQ 49.859375 40.875 45.40625 35.40625 \nQ 44.1875 33.984375 37.640625 27.21875 \nQ 31.109375 20.453125 19.1875 8.296875 \nz\n\" id=\"DejaVuSans-50\"/>\n      </defs>\n      <g transform=\"translate(136.974215 239.238437)scale(0.1 -0.1)\">\n       <use xlink:href=\"#DejaVuSans-50\"/>\n       <use x=\"63.623047\" xlink:href=\"#DejaVuSans-48\"/>\n      </g>\n     </g>\n    </g>\n    <g id=\"xtick_4\">\n     <g id=\"line2d_4\">\n      <g>\n       <use style=\"stroke:#000000;stroke-width:0.8;\" x=\"194.923772\" xlink:href=\"#m247e816cd8\" y=\"224.64\"/>\n      </g>\n     </g>\n     <g id=\"text_4\">\n      <!-- 30 -->\n      <defs>\n       <path d=\"M 40.578125 39.3125 \nQ 47.65625 37.796875 51.625 33 \nQ 55.609375 28.21875 55.609375 21.1875 \nQ 55.609375 10.40625 48.1875 4.484375 \nQ 40.765625 -1.421875 27.09375 -1.421875 \nQ 22.515625 -1.421875 17.65625 -0.515625 \nQ 12.796875 0.390625 7.625 2.203125 \nL 7.625 11.71875 \nQ 11.71875 9.328125 16.59375 8.109375 \nQ 21.484375 6.890625 26.8125 6.890625 \nQ 36.078125 6.890625 40.9375 10.546875 \nQ 45.796875 14.203125 45.796875 21.1875 \nQ 45.796875 27.640625 41.28125 31.265625 \nQ 36.765625 34.90625 28.71875 34.90625 \nL 20.21875 34.90625 \nL 20.21875 43.015625 \nL 29.109375 43.015625 \nQ 36.375 43.015625 40.234375 45.921875 \nQ 44.09375 48.828125 44.09375 54.296875 \nQ 44.09375 59.90625 40.109375 62.90625 \nQ 36.140625 65.921875 28.71875 65.921875 \nQ 24.65625 65.921875 20.015625 65.03125 \nQ 15.375 64.15625 9.8125 62.3125 \nL 9.8125 71.09375 \nQ 15.4375 72.65625 20.34375 73.4375 \nQ 25.25 74.21875 29.59375 74.21875 \nQ 40.828125 74.21875 47.359375 69.109375 \nQ 53.90625 64.015625 53.90625 55.328125 \nQ 53.90625 49.265625 50.4375 45.09375 \nQ 46.96875 40.921875 40.578125 39.3125 \nz\n\" id=\"DejaVuSans-51\"/>\n      </defs>\n      <g transform=\"translate(188.561272 239.238437)scale(0.1 -0.1)\">\n       <use xlink:href=\"#DejaVuSans-51\"/>\n       <use x=\"63.623047\" xlink:href=\"#DejaVuSans-48\"/>\n      </g>\n     </g>\n    </g>\n    <g id=\"xtick_5\">\n     <g id=\"line2d_5\">\n      <g>\n       <use style=\"stroke:#000000;stroke-width:0.8;\" x=\"246.510829\" xlink:href=\"#m247e816cd8\" y=\"224.64\"/>\n      </g>\n     </g>\n     <g id=\"text_5\">\n      <!-- 40 -->\n      <defs>\n       <path d=\"M 37.796875 64.3125 \nL 12.890625 25.390625 \nL 37.796875 25.390625 \nz\nM 35.203125 72.90625 \nL 47.609375 72.90625 \nL 47.609375 25.390625 \nL 58.015625 25.390625 \nL 58.015625 17.1875 \nL 47.609375 17.1875 \nL 47.609375 0 \nL 37.796875 0 \nL 37.796875 17.1875 \nL 4.890625 17.1875 \nL 4.890625 26.703125 \nz\n\" id=\"DejaVuSans-52\"/>\n      </defs>\n      <g transform=\"translate(240.148329 239.238437)scale(0.1 -0.1)\">\n       <use xlink:href=\"#DejaVuSans-52\"/>\n       <use x=\"63.623047\" xlink:href=\"#DejaVuSans-48\"/>\n      </g>\n     </g>\n    </g>\n    <g id=\"xtick_6\">\n     <g id=\"line2d_6\">\n      <g>\n       <use style=\"stroke:#000000;stroke-width:0.8;\" x=\"298.097886\" xlink:href=\"#m247e816cd8\" y=\"224.64\"/>\n      </g>\n     </g>\n     <g id=\"text_6\">\n      <!-- 50 -->\n      <defs>\n       <path d=\"M 10.796875 72.90625 \nL 49.515625 72.90625 \nL 49.515625 64.59375 \nL 19.828125 64.59375 \nL 19.828125 46.734375 \nQ 21.96875 47.46875 24.109375 47.828125 \nQ 26.265625 48.1875 28.421875 48.1875 \nQ 40.625 48.1875 47.75 41.5 \nQ 54.890625 34.8125 54.890625 23.390625 \nQ 54.890625 11.625 47.5625 5.09375 \nQ 40.234375 -1.421875 26.90625 -1.421875 \nQ 22.3125 -1.421875 17.546875 -0.640625 \nQ 12.796875 0.140625 7.71875 1.703125 \nL 7.71875 11.625 \nQ 12.109375 9.234375 16.796875 8.0625 \nQ 21.484375 6.890625 26.703125 6.890625 \nQ 35.15625 6.890625 40.078125 11.328125 \nQ 45.015625 15.765625 45.015625 23.390625 \nQ 45.015625 31 40.078125 35.4375 \nQ 35.15625 39.890625 26.703125 39.890625 \nQ 22.75 39.890625 18.8125 39.015625 \nQ 14.890625 38.140625 10.796875 36.28125 \nz\n\" id=\"DejaVuSans-53\"/>\n      </defs>\n      <g transform=\"translate(291.735386 239.238437)scale(0.1 -0.1)\">\n       <use xlink:href=\"#DejaVuSans-53\"/>\n       <use x=\"63.623047\" xlink:href=\"#DejaVuSans-48\"/>\n      </g>\n     </g>\n    </g>\n    <g id=\"xtick_7\">\n     <g id=\"line2d_7\">\n      <g>\n       <use style=\"stroke:#000000;stroke-width:0.8;\" x=\"349.684943\" xlink:href=\"#m247e816cd8\" y=\"224.64\"/>\n      </g>\n     </g>\n     <g id=\"text_7\">\n      <!-- 60 -->\n      <defs>\n       <path d=\"M 33.015625 40.375 \nQ 26.375 40.375 22.484375 35.828125 \nQ 18.609375 31.296875 18.609375 23.390625 \nQ 18.609375 15.53125 22.484375 10.953125 \nQ 26.375 6.390625 33.015625 6.390625 \nQ 39.65625 6.390625 43.53125 10.953125 \nQ 47.40625 15.53125 47.40625 23.390625 \nQ 47.40625 31.296875 43.53125 35.828125 \nQ 39.65625 40.375 33.015625 40.375 \nz\nM 52.59375 71.296875 \nL 52.59375 62.3125 \nQ 48.875 64.0625 45.09375 64.984375 \nQ 41.3125 65.921875 37.59375 65.921875 \nQ 27.828125 65.921875 22.671875 59.328125 \nQ 17.53125 52.734375 16.796875 39.40625 \nQ 19.671875 43.65625 24.015625 45.921875 \nQ 28.375 48.1875 33.59375 48.1875 \nQ 44.578125 48.1875 50.953125 41.515625 \nQ 57.328125 34.859375 57.328125 23.390625 \nQ 57.328125 12.15625 50.6875 5.359375 \nQ 44.046875 -1.421875 33.015625 -1.421875 \nQ 20.359375 -1.421875 13.671875 8.265625 \nQ 6.984375 17.96875 6.984375 36.375 \nQ 6.984375 53.65625 15.1875 63.9375 \nQ 23.390625 74.21875 37.203125 74.21875 \nQ 40.921875 74.21875 44.703125 73.484375 \nQ 48.484375 72.75 52.59375 71.296875 \nz\n\" id=\"DejaVuSans-54\"/>\n      </defs>\n      <g transform=\"translate(343.322443 239.238437)scale(0.1 -0.1)\">\n       <use xlink:href=\"#DejaVuSans-54\"/>\n       <use x=\"63.623047\" xlink:href=\"#DejaVuSans-48\"/>\n      </g>\n     </g>\n    </g>\n   </g>\n   <g id=\"matplotlib.axis_2\">\n    <g id=\"ytick_1\">\n     <g id=\"line2d_8\">\n      <defs>\n       <path d=\"M 0 0 \nL -3.5 0 \n\" id=\"m66359a5e08\" style=\"stroke:#000000;stroke-width:0.8;\"/>\n      </defs>\n      <g>\n       <use style=\"stroke:#000000;stroke-width:0.8;\" x=\"30.103125\" xlink:href=\"#m66359a5e08\" y=\"199.024497\"/>\n      </g>\n     </g>\n     <g id=\"text_8\">\n      <!-- 0.2 -->\n      <defs>\n       <path d=\"M 10.6875 12.40625 \nL 21 12.40625 \nL 21 0 \nL 10.6875 0 \nz\n\" id=\"DejaVuSans-46\"/>\n      </defs>\n      <g transform=\"translate(7.2 202.823716)scale(0.1 -0.1)\">\n       <use xlink:href=\"#DejaVuSans-48\"/>\n       <use x=\"63.623047\" xlink:href=\"#DejaVuSans-46\"/>\n       <use x=\"95.410156\" xlink:href=\"#DejaVuSans-50\"/>\n      </g>\n     </g>\n    </g>\n    <g id=\"ytick_2\">\n     <g id=\"line2d_9\">\n      <g>\n       <use style=\"stroke:#000000;stroke-width:0.8;\" x=\"30.103125\" xlink:href=\"#m66359a5e08\" y=\"172.791232\"/>\n      </g>\n     </g>\n     <g id=\"text_9\">\n      <!-- 0.3 -->\n      <g transform=\"translate(7.2 176.590451)scale(0.1 -0.1)\">\n       <use xlink:href=\"#DejaVuSans-48\"/>\n       <use x=\"63.623047\" xlink:href=\"#DejaVuSans-46\"/>\n       <use x=\"95.410156\" xlink:href=\"#DejaVuSans-51\"/>\n      </g>\n     </g>\n    </g>\n    <g id=\"ytick_3\">\n     <g id=\"line2d_10\">\n      <g>\n       <use style=\"stroke:#000000;stroke-width:0.8;\" x=\"30.103125\" xlink:href=\"#m66359a5e08\" y=\"146.557967\"/>\n      </g>\n     </g>\n     <g id=\"text_10\">\n      <!-- 0.4 -->\n      <g transform=\"translate(7.2 150.357186)scale(0.1 -0.1)\">\n       <use xlink:href=\"#DejaVuSans-48\"/>\n       <use x=\"63.623047\" xlink:href=\"#DejaVuSans-46\"/>\n       <use x=\"95.410156\" xlink:href=\"#DejaVuSans-52\"/>\n      </g>\n     </g>\n    </g>\n    <g id=\"ytick_4\">\n     <g id=\"line2d_11\">\n      <g>\n       <use style=\"stroke:#000000;stroke-width:0.8;\" x=\"30.103125\" xlink:href=\"#m66359a5e08\" y=\"120.324702\"/>\n      </g>\n     </g>\n     <g id=\"text_11\">\n      <!-- 0.5 -->\n      <g transform=\"translate(7.2 124.123921)scale(0.1 -0.1)\">\n       <use xlink:href=\"#DejaVuSans-48\"/>\n       <use x=\"63.623047\" xlink:href=\"#DejaVuSans-46\"/>\n       <use x=\"95.410156\" xlink:href=\"#DejaVuSans-53\"/>\n      </g>\n     </g>\n    </g>\n    <g id=\"ytick_5\">\n     <g id=\"line2d_12\">\n      <g>\n       <use style=\"stroke:#000000;stroke-width:0.8;\" x=\"30.103125\" xlink:href=\"#m66359a5e08\" y=\"94.091437\"/>\n      </g>\n     </g>\n     <g id=\"text_12\">\n      <!-- 0.6 -->\n      <g transform=\"translate(7.2 97.890656)scale(0.1 -0.1)\">\n       <use xlink:href=\"#DejaVuSans-48\"/>\n       <use x=\"63.623047\" xlink:href=\"#DejaVuSans-46\"/>\n       <use x=\"95.410156\" xlink:href=\"#DejaVuSans-54\"/>\n      </g>\n     </g>\n    </g>\n    <g id=\"ytick_6\">\n     <g id=\"line2d_13\">\n      <g>\n       <use style=\"stroke:#000000;stroke-width:0.8;\" x=\"30.103125\" xlink:href=\"#m66359a5e08\" y=\"67.858172\"/>\n      </g>\n     </g>\n     <g id=\"text_13\">\n      <!-- 0.7 -->\n      <defs>\n       <path d=\"M 8.203125 72.90625 \nL 55.078125 72.90625 \nL 55.078125 68.703125 \nL 28.609375 0 \nL 18.3125 0 \nL 43.21875 64.59375 \nL 8.203125 64.59375 \nz\n\" id=\"DejaVuSans-55\"/>\n      </defs>\n      <g transform=\"translate(7.2 71.657391)scale(0.1 -0.1)\">\n       <use xlink:href=\"#DejaVuSans-48\"/>\n       <use x=\"63.623047\" xlink:href=\"#DejaVuSans-46\"/>\n       <use x=\"95.410156\" xlink:href=\"#DejaVuSans-55\"/>\n      </g>\n     </g>\n    </g>\n    <g id=\"ytick_7\">\n     <g id=\"line2d_14\">\n      <g>\n       <use style=\"stroke:#000000;stroke-width:0.8;\" x=\"30.103125\" xlink:href=\"#m66359a5e08\" y=\"41.624907\"/>\n      </g>\n     </g>\n     <g id=\"text_14\">\n      <!-- 0.8 -->\n      <defs>\n       <path d=\"M 31.78125 34.625 \nQ 24.75 34.625 20.71875 30.859375 \nQ 16.703125 27.09375 16.703125 20.515625 \nQ 16.703125 13.921875 20.71875 10.15625 \nQ 24.75 6.390625 31.78125 6.390625 \nQ 38.8125 6.390625 42.859375 10.171875 \nQ 46.921875 13.96875 46.921875 20.515625 \nQ 46.921875 27.09375 42.890625 30.859375 \nQ 38.875 34.625 31.78125 34.625 \nz\nM 21.921875 38.8125 \nQ 15.578125 40.375 12.03125 44.71875 \nQ 8.5 49.078125 8.5 55.328125 \nQ 8.5 64.0625 14.71875 69.140625 \nQ 20.953125 74.21875 31.78125 74.21875 \nQ 42.671875 74.21875 48.875 69.140625 \nQ 55.078125 64.0625 55.078125 55.328125 \nQ 55.078125 49.078125 51.53125 44.71875 \nQ 48 40.375 41.703125 38.8125 \nQ 48.828125 37.15625 52.796875 32.3125 \nQ 56.78125 27.484375 56.78125 20.515625 \nQ 56.78125 9.90625 50.3125 4.234375 \nQ 43.84375 -1.421875 31.78125 -1.421875 \nQ 19.734375 -1.421875 13.25 4.234375 \nQ 6.78125 9.90625 6.78125 20.515625 \nQ 6.78125 27.484375 10.78125 32.3125 \nQ 14.796875 37.15625 21.921875 38.8125 \nz\nM 18.3125 54.390625 \nQ 18.3125 48.734375 21.84375 45.5625 \nQ 25.390625 42.390625 31.78125 42.390625 \nQ 38.140625 42.390625 41.71875 45.5625 \nQ 45.3125 48.734375 45.3125 54.390625 \nQ 45.3125 60.0625 41.71875 63.234375 \nQ 38.140625 66.40625 31.78125 66.40625 \nQ 25.390625 66.40625 21.84375 63.234375 \nQ 18.3125 60.0625 18.3125 54.390625 \nz\n\" id=\"DejaVuSans-56\"/>\n      </defs>\n      <g transform=\"translate(7.2 45.424126)scale(0.1 -0.1)\">\n       <use xlink:href=\"#DejaVuSans-48\"/>\n       <use x=\"63.623047\" xlink:href=\"#DejaVuSans-46\"/>\n       <use x=\"95.410156\" xlink:href=\"#DejaVuSans-56\"/>\n      </g>\n     </g>\n    </g>\n    <g id=\"ytick_8\">\n     <g id=\"line2d_15\">\n      <g>\n       <use style=\"stroke:#000000;stroke-width:0.8;\" x=\"30.103125\" xlink:href=\"#m66359a5e08\" y=\"15.391642\"/>\n      </g>\n     </g>\n     <g id=\"text_15\">\n      <!-- 0.9 -->\n      <defs>\n       <path d=\"M 10.984375 1.515625 \nL 10.984375 10.5 \nQ 14.703125 8.734375 18.5 7.8125 \nQ 22.3125 6.890625 25.984375 6.890625 \nQ 35.75 6.890625 40.890625 13.453125 \nQ 46.046875 20.015625 46.78125 33.40625 \nQ 43.953125 29.203125 39.59375 26.953125 \nQ 35.25 24.703125 29.984375 24.703125 \nQ 19.046875 24.703125 12.671875 31.3125 \nQ 6.296875 37.9375 6.296875 49.421875 \nQ 6.296875 60.640625 12.9375 67.421875 \nQ 19.578125 74.21875 30.609375 74.21875 \nQ 43.265625 74.21875 49.921875 64.515625 \nQ 56.59375 54.828125 56.59375 36.375 \nQ 56.59375 19.140625 48.40625 8.859375 \nQ 40.234375 -1.421875 26.421875 -1.421875 \nQ 22.703125 -1.421875 18.890625 -0.6875 \nQ 15.09375 0.046875 10.984375 1.515625 \nz\nM 30.609375 32.421875 \nQ 37.25 32.421875 41.125 36.953125 \nQ 45.015625 41.5 45.015625 49.421875 \nQ 45.015625 57.28125 41.125 61.84375 \nQ 37.25 66.40625 30.609375 66.40625 \nQ 23.96875 66.40625 20.09375 61.84375 \nQ 16.21875 57.28125 16.21875 49.421875 \nQ 16.21875 41.5 20.09375 36.953125 \nQ 23.96875 32.421875 30.609375 32.421875 \nz\n\" id=\"DejaVuSans-57\"/>\n      </defs>\n      <g transform=\"translate(7.2 19.190861)scale(0.1 -0.1)\">\n       <use xlink:href=\"#DejaVuSans-48\"/>\n       <use x=\"63.623047\" xlink:href=\"#DejaVuSans-46\"/>\n       <use x=\"95.410156\" xlink:href=\"#DejaVuSans-57\"/>\n      </g>\n     </g>\n    </g>\n   </g>\n   <g id=\"line2d_16\">\n    <path clip-path=\"url(#pfc96834300)\" d=\"M 45.321307 210.235797 \nL 50.480013 208.604494 \nL 55.638718 214.756364 \nL 60.797424 202.477452 \nL 65.95613 182.876988 \nL 71.114835 171.605916 \nL 76.273541 172.292829 \nL 81.432247 168.440784 \nL 86.590952 169.760356 \nL 91.749658 169.464257 \nL 96.908364 164.98599 \nL 102.06707 163.97815 \nL 107.225775 162.31926 \nL 112.384481 157.880534 \nL 117.543187 144.124806 \nL 122.701892 143.718359 \nL 127.860598 141.290716 \nL 133.019304 140.634149 \nL 138.178009 136.658882 \nL 143.336715 131.803595 \nL 148.495421 128.198911 \nL 153.654127 122.411188 \nL 158.812832 118.809264 \nL 163.971538 112.398078 \nL 169.130244 108.90742 \nL 174.288949 108.46603 \nL 179.447655 102.773942 \nL 184.606361 97.471747 \nL 189.765066 91.942421 \nL 194.923772 85.820896 \nL 200.082478 81.247915 \nL 205.241184 77.053792 \nL 210.399889 70.660078 \nL 215.558595 66.026405 \nL 220.717301 60.968814 \nL 225.876006 57.873568 \nL 231.034712 53.08265 \nL 236.193418 51.553418 \nL 241.352123 47.908274 \nL 246.510829 43.981745 \nL 251.669535 41.293865 \nL 256.828241 38.107583 \nL 261.986946 35.687295 \nL 267.145652 34.305194 \nL 272.304358 32.272962 \nL 277.463063 29.918883 \nL 282.621769 27.837914 \nL 287.780475 25.377166 \nL 292.93918 25.20061 \nL 298.097886 23.594135 \nL 303.256592 22.020765 \nL 308.415298 21.115916 \nL 313.574003 20.097961 \nL 318.732709 19.313574 \nL 323.891415 18.747124 \nL 329.05012 18.446427 \nL 334.208826 18.14573 \nL 339.367532 17.589395 \nL 344.526237 17.250077 \nL 349.684943 17.083636 \n\" style=\"fill:none;stroke:#1f77b4;stroke-linecap:square;stroke-width:1.5;\"/>\n   </g>\n   <g id=\"patch_3\">\n    <path d=\"M 30.103125 224.64 \nL 30.103125 7.2 \n\" style=\"fill:none;stroke:#000000;stroke-linecap:square;stroke-linejoin:miter;stroke-width:0.8;\"/>\n   </g>\n   <g id=\"patch_4\">\n    <path d=\"M 364.903125 224.64 \nL 364.903125 7.2 \n\" style=\"fill:none;stroke:#000000;stroke-linecap:square;stroke-linejoin:miter;stroke-width:0.8;\"/>\n   </g>\n   <g id=\"patch_5\">\n    <path d=\"M 30.103125 224.64 \nL 364.903125 224.64 \n\" style=\"fill:none;stroke:#000000;stroke-linecap:square;stroke-linejoin:miter;stroke-width:0.8;\"/>\n   </g>\n   <g id=\"patch_6\">\n    <path d=\"M 30.103125 7.2 \nL 364.903125 7.2 \n\" style=\"fill:none;stroke:#000000;stroke-linecap:square;stroke-linejoin:miter;stroke-width:0.8;\"/>\n   </g>\n  </g>\n </g>\n <defs>\n  <clipPath id=\"pfc96834300\">\n   <rect height=\"217.44\" width=\"334.8\" x=\"30.103125\" y=\"7.2\"/>\n  </clipPath>\n </defs>\n</svg>\n",
      "image/png": "[encoded data removed]"
     },
     "metadata": {
      "needs_background": "light"
     }
    }
   ],
   "source": [
    "# I evaluated several other models. One model that performed reasonably well was a decision tree. The tuning for this involved finding the best max depth. I included a counter just to keep track of the progress since it's pretty slow, but the results are very interesting. You can see where the model accuracy starts to peak out, after which point you will see overfitting issues.\n",
    "\n",
    "max_depths = np.linspace(1, 60, 60, endpoint=True)\n",
    "train_results = []\n",
    "\n",
    "for max_depth in max_depths:\n",
    "   dt = DecisionTreeClassifier(criterion=\"entropy\", max_depth=max_depth)\n",
    "   dt.fit(X_train, y_train)\n",
    "   train_pred = dt.predict(X_test)\n",
    "   train_pred_score = metrics.accuracy_score(y_test, train_pred)\n",
    "   train_results.append(train_pred_score)\n",
    "   print(max_depth)\n",
    "\n",
    "from matplotlib.legend_handler import HandlerLine2D\n",
    "line1 = plt.plot(max_depths, train_results)\n",
    "plt.show()"
   ]
  },
  {
   "cell_type": "code",
   "execution_count": 172,
   "metadata": {},
   "outputs": [],
   "source": [
    "# train a model based on the above results.\n",
    "\n",
    "dtc = DecisionTreeClassifier(criterion=\"entropy\", max_depth = 55)\n",
    "dtc.fit(X_train,y_train)"
   ]
  },
  {
   "cell_type": "code",
   "execution_count": 180,
   "metadata": {},
   "outputs": [],
   "source": [
    "y_hat = dtc.predict(X_test)"
   ]
  },
  {
   "cell_type": "code",
   "execution_count": 181,
   "metadata": {},
   "outputs": [
    {
     "output_type": "execute_result",
     "data": {
      "text/plain": "0.8124566258838989"
     },
     "metadata": {},
     "execution_count": 181
    }
   ],
   "source": [
    "#This is a much lower F1 score than our XGBoost model, but far higher than the roughly 40% I got with the undersampled data\n",
    "f1_score(y_test, y_hat, average='macro')"
   ]
  },
  {
   "cell_type": "code",
   "execution_count": 174,
   "metadata": {},
   "outputs": [],
   "source": [
    "# One more model, a Random Forest Classifier. I did no tuning on this one, just wanted to test how accurate this model could be.\n",
    "\n",
    "clf=RandomForestClassifier(n_estimators=100)\n",
    "clf.fit(X_train,y_train)\n",
    "y_hat=clf.predict(X_test)"
   ]
  },
  {
   "cell_type": "code",
   "execution_count": 179,
   "metadata": {},
   "outputs": [
    {
     "output_type": "execute_result",
     "data": {
      "text/plain": "0.889292077579585"
     },
     "metadata": {},
     "execution_count": 179
    }
   ],
   "source": [
    "#This actually ended up being the best F1 score out of the bunch, and we didn't even do any parameter tuning.\n",
    "\n",
    "f1_score(y_test, y_hat, average='macro')"
   ]
  },
  {
   "cell_type": "code",
   "execution_count": 176,
   "metadata": {},
   "outputs": [
    {
     "output_type": "execute_result",
     "data": {
      "text/plain": "array([0.80973032, 0.81012434, 0.80169641, 0.82056619, 0.98242943])"
     },
     "metadata": {},
     "execution_count": 176
    }
   ],
   "source": [
    "#This is the metric I was most interested in at the end of the day, because I wanted to see how accurate it was at predicting the most under-represented, and most deadly, value. It turned out pretty well.\n",
    " \n",
    "recall_score(y_test, y_hat, average=None)"
   ]
  }
 ]
}